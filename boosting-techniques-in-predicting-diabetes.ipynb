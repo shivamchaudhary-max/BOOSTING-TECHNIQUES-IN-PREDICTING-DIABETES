{
 "cells": [
  {
   "cell_type": "code",
   "execution_count": 1,
   "id": "9fe2ab55",
   "metadata": {
    "execution": {
     "iopub.execute_input": "2022-01-21T16:01:45.882737Z",
     "iopub.status.busy": "2022-01-21T16:01:45.882097Z",
     "iopub.status.idle": "2022-01-21T16:01:45.885869Z",
     "shell.execute_reply": "2022-01-21T16:01:45.886421Z",
     "shell.execute_reply.started": "2022-01-21T15:55:37.315833Z"
    },
    "papermill": {
     "duration": 0.026376,
     "end_time": "2022-01-21T16:01:45.886719",
     "exception": false,
     "start_time": "2022-01-21T16:01:45.860343",
     "status": "completed"
    },
    "tags": []
   },
   "outputs": [],
   "source": [
    "import numpy as np\n",
    "import pandas as pd"
   ]
  },
  {
   "cell_type": "code",
   "execution_count": 2,
   "id": "54a87d6b",
   "metadata": {
    "execution": {
     "iopub.execute_input": "2022-01-21T16:01:45.914324Z",
     "iopub.status.busy": "2022-01-21T16:01:45.913714Z",
     "iopub.status.idle": "2022-01-21T16:01:45.917436Z",
     "shell.execute_reply": "2022-01-21T16:01:45.918000Z",
     "shell.execute_reply.started": "2022-01-21T15:56:31.763752Z"
    },
    "papermill": {
     "duration": 0.019055,
     "end_time": "2022-01-21T16:01:45.918172",
     "exception": false,
     "start_time": "2022-01-21T16:01:45.899117",
     "status": "completed"
    },
    "tags": []
   },
   "outputs": [],
   "source": [
    "feature_columns = ['Pregnancies', 'Glucose', 'BloodPressure', 'SkinThickness', 'Insulin', 'BMI', 'DiabetesPedigreeFunction', 'Age','Target']"
   ]
  },
  {
   "cell_type": "code",
   "execution_count": 3,
   "id": "375a8375",
   "metadata": {
    "execution": {
     "iopub.execute_input": "2022-01-21T16:01:45.948451Z",
     "iopub.status.busy": "2022-01-21T16:01:45.947800Z",
     "iopub.status.idle": "2022-01-21T16:01:45.981819Z",
     "shell.execute_reply": "2022-01-21T16:01:45.982333Z",
     "shell.execute_reply.started": "2022-01-21T15:58:36.506835Z"
    },
    "papermill": {
     "duration": 0.052197,
     "end_time": "2022-01-21T16:01:45.982502",
     "exception": false,
     "start_time": "2022-01-21T16:01:45.930305",
     "status": "completed"
    },
    "tags": []
   },
   "outputs": [
    {
     "data": {
      "text/html": [
       "<div>\n",
       "<style scoped>\n",
       "    .dataframe tbody tr th:only-of-type {\n",
       "        vertical-align: middle;\n",
       "    }\n",
       "\n",
       "    .dataframe tbody tr th {\n",
       "        vertical-align: top;\n",
       "    }\n",
       "\n",
       "    .dataframe thead th {\n",
       "        text-align: right;\n",
       "    }\n",
       "</style>\n",
       "<table border=\"1\" class=\"dataframe\">\n",
       "  <thead>\n",
       "    <tr style=\"text-align: right;\">\n",
       "      <th></th>\n",
       "      <th>Pregnancies</th>\n",
       "      <th>Glucose</th>\n",
       "      <th>BloodPressure</th>\n",
       "      <th>SkinThickness</th>\n",
       "      <th>Insulin</th>\n",
       "      <th>BMI</th>\n",
       "      <th>DiabetesPedigreeFunction</th>\n",
       "      <th>Age</th>\n",
       "      <th>Target</th>\n",
       "    </tr>\n",
       "  </thead>\n",
       "  <tbody>\n",
       "    <tr>\n",
       "      <th>0</th>\n",
       "      <td>6</td>\n",
       "      <td>148</td>\n",
       "      <td>72</td>\n",
       "      <td>35</td>\n",
       "      <td>0</td>\n",
       "      <td>33.6</td>\n",
       "      <td>0.627</td>\n",
       "      <td>50</td>\n",
       "      <td>1</td>\n",
       "    </tr>\n",
       "    <tr>\n",
       "      <th>1</th>\n",
       "      <td>1</td>\n",
       "      <td>85</td>\n",
       "      <td>66</td>\n",
       "      <td>29</td>\n",
       "      <td>0</td>\n",
       "      <td>26.6</td>\n",
       "      <td>0.351</td>\n",
       "      <td>31</td>\n",
       "      <td>0</td>\n",
       "    </tr>\n",
       "    <tr>\n",
       "      <th>2</th>\n",
       "      <td>8</td>\n",
       "      <td>183</td>\n",
       "      <td>64</td>\n",
       "      <td>0</td>\n",
       "      <td>0</td>\n",
       "      <td>23.3</td>\n",
       "      <td>0.672</td>\n",
       "      <td>32</td>\n",
       "      <td>1</td>\n",
       "    </tr>\n",
       "    <tr>\n",
       "      <th>3</th>\n",
       "      <td>1</td>\n",
       "      <td>89</td>\n",
       "      <td>66</td>\n",
       "      <td>23</td>\n",
       "      <td>94</td>\n",
       "      <td>28.1</td>\n",
       "      <td>0.167</td>\n",
       "      <td>21</td>\n",
       "      <td>0</td>\n",
       "    </tr>\n",
       "    <tr>\n",
       "      <th>4</th>\n",
       "      <td>0</td>\n",
       "      <td>137</td>\n",
       "      <td>40</td>\n",
       "      <td>35</td>\n",
       "      <td>168</td>\n",
       "      <td>43.1</td>\n",
       "      <td>2.288</td>\n",
       "      <td>33</td>\n",
       "      <td>1</td>\n",
       "    </tr>\n",
       "  </tbody>\n",
       "</table>\n",
       "</div>"
      ],
      "text/plain": [
       "   Pregnancies  Glucose  BloodPressure  SkinThickness  Insulin   BMI  \\\n",
       "0            6      148             72             35        0  33.6   \n",
       "1            1       85             66             29        0  26.6   \n",
       "2            8      183             64              0        0  23.3   \n",
       "3            1       89             66             23       94  28.1   \n",
       "4            0      137             40             35      168  43.1   \n",
       "\n",
       "   DiabetesPedigreeFunction  Age  Target  \n",
       "0                     0.627   50       1  \n",
       "1                     0.351   31       0  \n",
       "2                     0.672   32       1  \n",
       "3                     0.167   21       0  \n",
       "4                     2.288   33       1  "
      ]
     },
     "execution_count": 3,
     "metadata": {},
     "output_type": "execute_result"
    }
   ],
   "source": [
    "df = pd.read_csv(\"../input/pima-indian-diabetes/pima-indians-diabetes.csv\",header=None, names=feature_columns)\n",
    "df.head()"
   ]
  },
  {
   "cell_type": "code",
   "execution_count": 4,
   "id": "8057212e",
   "metadata": {
    "execution": {
     "iopub.execute_input": "2022-01-21T16:01:46.011808Z",
     "iopub.status.busy": "2022-01-21T16:01:46.011163Z",
     "iopub.status.idle": "2022-01-21T16:01:46.018438Z",
     "shell.execute_reply": "2022-01-21T16:01:46.018899Z",
     "shell.execute_reply.started": "2022-01-21T15:58:48.497359Z"
    },
    "papermill": {
     "duration": 0.023175,
     "end_time": "2022-01-21T16:01:46.019066",
     "exception": false,
     "start_time": "2022-01-21T16:01:45.995891",
     "status": "completed"
    },
    "tags": []
   },
   "outputs": [
    {
     "data": {
      "text/plain": [
       "Pregnancies                 0\n",
       "Glucose                     0\n",
       "BloodPressure               0\n",
       "SkinThickness               0\n",
       "Insulin                     0\n",
       "BMI                         0\n",
       "DiabetesPedigreeFunction    0\n",
       "Age                         0\n",
       "Target                      0\n",
       "dtype: int64"
      ]
     },
     "execution_count": 4,
     "metadata": {},
     "output_type": "execute_result"
    }
   ],
   "source": [
    "df.isnull().sum()"
   ]
  },
  {
   "cell_type": "code",
   "execution_count": 5,
   "id": "efb8f16a",
   "metadata": {
    "execution": {
     "iopub.execute_input": "2022-01-21T16:01:46.057743Z",
     "iopub.status.busy": "2022-01-21T16:01:46.056973Z",
     "iopub.status.idle": "2022-01-21T16:01:46.060722Z",
     "shell.execute_reply": "2022-01-21T16:01:46.060098Z",
     "shell.execute_reply.started": "2022-01-21T15:59:11.939488Z"
    },
    "papermill": {
     "duration": 0.028849,
     "end_time": "2022-01-21T16:01:46.060860",
     "exception": false,
     "start_time": "2022-01-21T16:01:46.032011",
     "status": "completed"
    },
    "tags": []
   },
   "outputs": [
    {
     "data": {
      "text/html": [
       "<div>\n",
       "<style scoped>\n",
       "    .dataframe tbody tr th:only-of-type {\n",
       "        vertical-align: middle;\n",
       "    }\n",
       "\n",
       "    .dataframe tbody tr th {\n",
       "        vertical-align: top;\n",
       "    }\n",
       "\n",
       "    .dataframe thead th {\n",
       "        text-align: right;\n",
       "    }\n",
       "</style>\n",
       "<table border=\"1\" class=\"dataframe\">\n",
       "  <thead>\n",
       "    <tr style=\"text-align: right;\">\n",
       "      <th></th>\n",
       "      <th>Pregnancies</th>\n",
       "      <th>Glucose</th>\n",
       "      <th>BloodPressure</th>\n",
       "      <th>SkinThickness</th>\n",
       "      <th>Insulin</th>\n",
       "      <th>BMI</th>\n",
       "      <th>DiabetesPedigreeFunction</th>\n",
       "      <th>Age</th>\n",
       "      <th>Target</th>\n",
       "    </tr>\n",
       "  </thead>\n",
       "  <tbody>\n",
       "    <tr>\n",
       "      <th>0</th>\n",
       "      <td>6</td>\n",
       "      <td>148</td>\n",
       "      <td>72</td>\n",
       "      <td>35</td>\n",
       "      <td>0</td>\n",
       "      <td>33.6</td>\n",
       "      <td>0.627</td>\n",
       "      <td>50</td>\n",
       "      <td>1</td>\n",
       "    </tr>\n",
       "    <tr>\n",
       "      <th>1</th>\n",
       "      <td>1</td>\n",
       "      <td>85</td>\n",
       "      <td>66</td>\n",
       "      <td>29</td>\n",
       "      <td>0</td>\n",
       "      <td>26.6</td>\n",
       "      <td>0.351</td>\n",
       "      <td>31</td>\n",
       "      <td>0</td>\n",
       "    </tr>\n",
       "    <tr>\n",
       "      <th>2</th>\n",
       "      <td>8</td>\n",
       "      <td>183</td>\n",
       "      <td>64</td>\n",
       "      <td>0</td>\n",
       "      <td>0</td>\n",
       "      <td>23.3</td>\n",
       "      <td>0.672</td>\n",
       "      <td>32</td>\n",
       "      <td>1</td>\n",
       "    </tr>\n",
       "    <tr>\n",
       "      <th>3</th>\n",
       "      <td>1</td>\n",
       "      <td>89</td>\n",
       "      <td>66</td>\n",
       "      <td>23</td>\n",
       "      <td>94</td>\n",
       "      <td>28.1</td>\n",
       "      <td>0.167</td>\n",
       "      <td>21</td>\n",
       "      <td>0</td>\n",
       "    </tr>\n",
       "    <tr>\n",
       "      <th>4</th>\n",
       "      <td>0</td>\n",
       "      <td>137</td>\n",
       "      <td>40</td>\n",
       "      <td>35</td>\n",
       "      <td>168</td>\n",
       "      <td>43.1</td>\n",
       "      <td>2.288</td>\n",
       "      <td>33</td>\n",
       "      <td>1</td>\n",
       "    </tr>\n",
       "  </tbody>\n",
       "</table>\n",
       "</div>"
      ],
      "text/plain": [
       "   Pregnancies  Glucose  BloodPressure  SkinThickness  Insulin   BMI  \\\n",
       "0            6      148             72             35        0  33.6   \n",
       "1            1       85             66             29        0  26.6   \n",
       "2            8      183             64              0        0  23.3   \n",
       "3            1       89             66             23       94  28.1   \n",
       "4            0      137             40             35      168  43.1   \n",
       "\n",
       "   DiabetesPedigreeFunction  Age  Target  \n",
       "0                     0.627   50       1  \n",
       "1                     0.351   31       0  \n",
       "2                     0.672   32       1  \n",
       "3                     0.167   21       0  \n",
       "4                     2.288   33       1  "
      ]
     },
     "execution_count": 5,
     "metadata": {},
     "output_type": "execute_result"
    }
   ],
   "source": [
    "df.head()"
   ]
  },
  {
   "cell_type": "code",
   "execution_count": 6,
   "id": "833ff61a",
   "metadata": {
    "execution": {
     "iopub.execute_input": "2022-01-21T16:01:46.096889Z",
     "iopub.status.busy": "2022-01-21T16:01:46.096221Z",
     "iopub.status.idle": "2022-01-21T16:01:46.097987Z",
     "shell.execute_reply": "2022-01-21T16:01:46.098547Z",
     "shell.execute_reply.started": "2022-01-21T15:59:29.005963Z"
    },
    "papermill": {
     "duration": 0.024312,
     "end_time": "2022-01-21T16:01:46.098738",
     "exception": false,
     "start_time": "2022-01-21T16:01:46.074426",
     "status": "completed"
    },
    "tags": []
   },
   "outputs": [],
   "source": [
    "x3=df.iloc[:,0:8]\n",
    "y3=df.iloc[:,[8]]\n"
   ]
  },
  {
   "cell_type": "code",
   "execution_count": 7,
   "id": "f599dd60",
   "metadata": {
    "execution": {
     "iopub.execute_input": "2022-01-21T16:01:46.128813Z",
     "iopub.status.busy": "2022-01-21T16:01:46.128090Z",
     "iopub.status.idle": "2022-01-21T16:01:47.381266Z",
     "shell.execute_reply": "2022-01-21T16:01:47.380662Z",
     "shell.execute_reply.started": "2022-01-21T15:59:44.203420Z"
    },
    "papermill": {
     "duration": 1.269223,
     "end_time": "2022-01-21T16:01:47.381409",
     "exception": false,
     "start_time": "2022-01-21T16:01:46.112186",
     "status": "completed"
    },
    "tags": []
   },
   "outputs": [],
   "source": [
    "from sklearn.ensemble import AdaBoostClassifier\n",
    "from sklearn import datasets\n",
    "\n",
    "from sklearn.model_selection import train_test_split\n",
    "\n",
    "from sklearn import metrics"
   ]
  },
  {
   "cell_type": "code",
   "execution_count": 8,
   "id": "bc504ad1",
   "metadata": {
    "execution": {
     "iopub.execute_input": "2022-01-21T16:01:47.417126Z",
     "iopub.status.busy": "2022-01-21T16:01:47.416217Z",
     "iopub.status.idle": "2022-01-21T16:01:47.418722Z",
     "shell.execute_reply": "2022-01-21T16:01:47.418222Z",
     "shell.execute_reply.started": "2022-01-21T15:59:55.434348Z"
    },
    "papermill": {
     "duration": 0.023831,
     "end_time": "2022-01-21T16:01:47.418868",
     "exception": false,
     "start_time": "2022-01-21T16:01:47.395037",
     "status": "completed"
    },
    "tags": []
   },
   "outputs": [],
   "source": [
    "x3_train, x3_test, y3_train, y3_test = train_test_split(x3, y3, test_size=0.3)"
   ]
  },
  {
   "cell_type": "code",
   "execution_count": 9,
   "id": "4d407f53",
   "metadata": {
    "execution": {
     "iopub.execute_input": "2022-01-21T16:01:47.456070Z",
     "iopub.status.busy": "2022-01-21T16:01:47.455344Z",
     "iopub.status.idle": "2022-01-21T16:01:47.457138Z",
     "shell.execute_reply": "2022-01-21T16:01:47.457609Z",
     "shell.execute_reply.started": "2022-01-21T16:00:06.587020Z"
    },
    "papermill": {
     "duration": 0.025568,
     "end_time": "2022-01-21T16:01:47.457798",
     "exception": false,
     "start_time": "2022-01-21T16:01:47.432230",
     "status": "completed"
    },
    "tags": []
   },
   "outputs": [],
   "source": [
    "from sklearn.metrics import confusion_matrix, accuracy_score, classification_report\n",
    "\n",
    "\n",
    "def evaluate(model, x3_train, x3_test, y3_train, y3_test):\n",
    "    y3_test_pred = model.predict(x3_test)\n",
    "    y3_train_pred = model.predict(x3_train)\n",
    "\n",
    "    print(\"TRAINIG RESULTS: \\n===============================\")\n",
    "    clf_report = pd.DataFrame(classification_report(y3_train, y3_train_pred, output_dict=True))\n",
    "    print(f\"CONFUSION MATRIX:\\n{confusion_matrix(y3_train, y3_train_pred)}\")\n",
    "    print(f\"ACCURACY SCORE:\\n{accuracy_score(y3_train, y3_train_pred):.4f}\")\n",
    "    print(f\"CLASSIFICATION REPORT:\\n{clf_report}\")\n",
    "\n",
    "    print(\"TESTING RESULTS: \\n===============================\")\n",
    "    clf_report = pd.DataFrame(classification_report(y3_test, y3_test_pred, output_dict=True))\n",
    "    print(f\"CONFUSION MATRIX:\\n{confusion_matrix(y3_test, y3_test_pred)}\")\n",
    "    print(f\"ACCURACY SCORE:\\n{accuracy_score(y3_test, y3_test_pred):.4f}\")\n",
    "    print(f\"CLASSIFICATION REPORT:\\n{clf_report}\")"
   ]
  },
  {
   "cell_type": "code",
   "execution_count": 10,
   "id": "1b840fcf",
   "metadata": {
    "execution": {
     "iopub.execute_input": "2022-01-21T16:01:47.487676Z",
     "iopub.status.busy": "2022-01-21T16:01:47.487052Z",
     "iopub.status.idle": "2022-01-21T16:01:47.599697Z",
     "shell.execute_reply": "2022-01-21T16:01:47.599121Z",
     "shell.execute_reply.started": "2022-01-21T16:00:19.928946Z"
    },
    "papermill": {
     "duration": 0.128471,
     "end_time": "2022-01-21T16:01:47.599838",
     "exception": false,
     "start_time": "2022-01-21T16:01:47.471367",
     "status": "completed"
    },
    "tags": []
   },
   "outputs": [
    {
     "name": "stdout",
     "output_type": "stream",
     "text": [
      "TRAINIG RESULTS: \n",
      "===============================\n",
      "CONFUSION MATRIX:\n",
      "[[306  42]\n",
      " [ 46 143]]\n",
      "ACCURACY SCORE:\n",
      "0.8361\n",
      "CLASSIFICATION REPORT:\n",
      "                    0           1  accuracy   macro avg  weighted avg\n",
      "precision    0.869318    0.772973  0.836127    0.821146      0.835409\n",
      "recall       0.879310    0.756614  0.836127    0.817962      0.836127\n",
      "f1-score     0.874286    0.764706  0.836127    0.819496      0.835719\n",
      "support    348.000000  189.000000  0.836127  537.000000    537.000000\n",
      "TESTING RESULTS: \n",
      "===============================\n",
      "CONFUSION MATRIX:\n",
      "[[125  27]\n",
      " [ 31  48]]\n",
      "ACCURACY SCORE:\n",
      "0.7489\n",
      "CLASSIFICATION REPORT:\n",
      "                    0          1  accuracy   macro avg  weighted avg\n",
      "precision    0.801282   0.640000  0.748918    0.720641      0.746125\n",
      "recall       0.822368   0.607595  0.748918    0.714982      0.748918\n",
      "f1-score     0.811688   0.623377  0.748918    0.717532      0.747287\n",
      "support    152.000000  79.000000  0.748918  231.000000    231.000000\n"
     ]
    },
    {
     "name": "stderr",
     "output_type": "stream",
     "text": [
      "/opt/conda/lib/python3.7/site-packages/sklearn/utils/validation.py:72: DataConversionWarning: A column-vector y was passed when a 1d array was expected. Please change the shape of y to (n_samples, ), for example using ravel().\n",
      "  return f(**kwargs)\n"
     ]
    }
   ],
   "source": [
    "from sklearn.ensemble import AdaBoostClassifier\n",
    "\n",
    "ada_boost_clf = AdaBoostClassifier(n_estimators=30)\n",
    "ada_boost_clf.fit(x3_train, y3_train)\n",
    "evaluate(ada_boost_clf, x3_train, x3_test, y3_train, y3_test)"
   ]
  },
  {
   "cell_type": "code",
   "execution_count": 11,
   "id": "5561b30f",
   "metadata": {
    "execution": {
     "iopub.execute_input": "2022-01-21T16:01:47.636536Z",
     "iopub.status.busy": "2022-01-21T16:01:47.635382Z",
     "iopub.status.idle": "2022-01-21T16:01:47.654845Z",
     "shell.execute_reply": "2022-01-21T16:01:47.654261Z",
     "shell.execute_reply.started": "2022-01-21T16:00:37.543343Z"
    },
    "papermill": {
     "duration": 0.040852,
     "end_time": "2022-01-21T16:01:47.655011",
     "exception": false,
     "start_time": "2022-01-21T16:01:47.614159",
     "status": "completed"
    },
    "tags": []
   },
   "outputs": [
    {
     "name": "stdout",
     "output_type": "stream",
     "text": [
      "Scores AdaBoost: {'Train': 0.8361266294227188, 'Test': 0.7489177489177489}\n"
     ]
    }
   ],
   "source": [
    "\n",
    "scores = {\n",
    "        'Train': accuracy_score(y3_train, ada_boost_clf.predict(x3_train)),\n",
    "        'Test': accuracy_score(y3_test, ada_boost_clf.predict(x3_test)),\n",
    "    }\n",
    "print(\"Scores AdaBoost:\",scores)"
   ]
  },
  {
   "cell_type": "code",
   "execution_count": 12,
   "id": "df6577dc",
   "metadata": {
    "execution": {
     "iopub.execute_input": "2022-01-21T16:01:47.688257Z",
     "iopub.status.busy": "2022-01-21T16:01:47.687266Z",
     "iopub.status.idle": "2022-01-21T16:01:47.874172Z",
     "shell.execute_reply": "2022-01-21T16:01:47.874815Z",
     "shell.execute_reply.started": "2022-01-21T16:00:52.717895Z"
    },
    "papermill": {
     "duration": 0.205215,
     "end_time": "2022-01-21T16:01:47.875013",
     "exception": false,
     "start_time": "2022-01-21T16:01:47.669798",
     "status": "completed"
    },
    "tags": []
   },
   "outputs": [
    {
     "name": "stderr",
     "output_type": "stream",
     "text": [
      "/opt/conda/lib/python3.7/site-packages/sklearn/utils/validation.py:72: DataConversionWarning: A column-vector y was passed when a 1d array was expected. Please change the shape of y to (n_samples, ), for example using ravel().\n",
      "  return f(**kwargs)\n"
     ]
    },
    {
     "name": "stdout",
     "output_type": "stream",
     "text": [
      "TRAINIG RESULTS: \n",
      "===============================\n",
      "CONFUSION MATRIX:\n",
      "[[342   6]\n",
      " [ 23 166]]\n",
      "ACCURACY SCORE:\n",
      "0.9460\n",
      "CLASSIFICATION REPORT:\n",
      "                    0           1  accuracy   macro avg  weighted avg\n",
      "precision    0.936986    0.965116  0.945996    0.951051      0.946887\n",
      "recall       0.982759    0.878307  0.945996    0.930533      0.945996\n",
      "f1-score     0.959327    0.919668  0.945996    0.939497      0.945369\n",
      "support    348.000000  189.000000  0.945996  537.000000    537.000000\n",
      "TESTING RESULTS: \n",
      "===============================\n",
      "CONFUSION MATRIX:\n",
      "[[122  30]\n",
      " [ 35  44]]\n",
      "ACCURACY SCORE:\n",
      "0.7186\n",
      "CLASSIFICATION REPORT:\n",
      "                    0          1  accuracy   macro avg  weighted avg\n",
      "precision    0.777070   0.594595  0.718615    0.685832      0.714665\n",
      "recall       0.802632   0.556962  0.718615    0.679797      0.718615\n",
      "f1-score     0.789644   0.575163  0.718615    0.682404      0.716293\n",
      "support    152.000000  79.000000  0.718615  231.000000    231.000000\n"
     ]
    }
   ],
   "source": [
    "from sklearn.ensemble import GradientBoostingClassifier\n",
    "\n",
    "grad_boost_clf = GradientBoostingClassifier(n_estimators=100, random_state=42)\n",
    "grad_boost_clf.fit(x3_train, y3_train)\n",
    "evaluate(grad_boost_clf, x3_train, x3_test, y3_train, y3_test)"
   ]
  },
  {
   "cell_type": "code",
   "execution_count": 13,
   "id": "482b6b71",
   "metadata": {
    "execution": {
     "iopub.execute_input": "2022-01-21T16:01:47.910233Z",
     "iopub.status.busy": "2022-01-21T16:01:47.909233Z",
     "iopub.status.idle": "2022-01-21T16:01:47.922596Z",
     "shell.execute_reply": "2022-01-21T16:01:47.922030Z",
     "shell.execute_reply.started": "2022-01-21T16:01:08.951107Z"
    },
    "papermill": {
     "duration": 0.032163,
     "end_time": "2022-01-21T16:01:47.922779",
     "exception": false,
     "start_time": "2022-01-21T16:01:47.890616",
     "status": "completed"
    },
    "tags": []
   },
   "outputs": [
    {
     "name": "stdout",
     "output_type": "stream",
     "text": [
      "Gradient Boosting: {'Train': 0.9459962756052142, 'Test': 0.7186147186147186}\n"
     ]
    }
   ],
   "source": [
    "scores['Gradient Boosting'] = {\n",
    "        'Train': accuracy_score(y3_train, grad_boost_clf.predict(x3_train)),\n",
    "        'Test': accuracy_score(y3_test, grad_boost_clf.predict(x3_test)),\n",
    "    }\n",
    "print( \"Gradient Boosting:\",scores['Gradient Boosting'])"
   ]
  },
  {
   "cell_type": "code",
   "execution_count": null,
   "id": "0de687b8",
   "metadata": {
    "papermill": {
     "duration": 0.015387,
     "end_time": "2022-01-21T16:01:47.953938",
     "exception": false,
     "start_time": "2022-01-21T16:01:47.938551",
     "status": "completed"
    },
    "tags": []
   },
   "outputs": [],
   "source": []
  }
 ],
 "metadata": {
  "kernelspec": {
   "display_name": "Python 3",
   "language": "python",
   "name": "python3"
  },
  "language_info": {
   "codemirror_mode": {
    "name": "ipython",
    "version": 3
   },
   "file_extension": ".py",
   "mimetype": "text/x-python",
   "name": "python",
   "nbconvert_exporter": "python",
   "pygments_lexer": "ipython3",
   "version": "3.7.12"
  },
  "papermill": {
   "default_parameters": {},
   "duration": 12.958577,
   "end_time": "2022-01-21T16:01:48.680670",
   "environment_variables": {},
   "exception": null,
   "input_path": "__notebook__.ipynb",
   "output_path": "__notebook__.ipynb",
   "parameters": {},
   "start_time": "2022-01-21T16:01:35.722093",
   "version": "2.3.3"
  }
 },
 "nbformat": 4,
 "nbformat_minor": 5
}
